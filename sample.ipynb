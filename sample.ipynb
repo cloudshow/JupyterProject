{
 "cells": [
  {
   "metadata": {},
   "cell_type": "code",
   "source": [
    "# 环境信息\n",
    "import sys\n",
    "import platform\n",
    "\n",
    "print(sys.platform)\n",
    "print(platform.python_version())\n",
    "print(sys.version)"
   ],
   "id": "fbc121e30a2defb3",
   "outputs": [],
   "execution_count": null
  },
  {
   "metadata": {},
   "cell_type": "code",
   "source": [
    "# pip\n",
    "\n",
    "# !pip install <package> -i https://pypi.tuna.tsinghua.edu.cn/simple\n",
    "\n",
    "# requirements.txt\n",
    "\n",
    "# pip freeze > requirements.txt\n",
    "# pip install -r requirements.txt -i https://pypi.tuna.tsinghua.edu.cn/simple"
   ],
   "id": "9127234396dec4bf",
   "outputs": [],
   "execution_count": null
  },
  {
   "metadata": {},
   "cell_type": "code",
   "source": "# !pip3 install torch torchvision -i https://pypi.tuna.tsinghua.edu.cn/simple",
   "id": "bc50f2a39a4317b6",
   "outputs": [],
   "execution_count": null
  }
 ],
 "metadata": {
  "kernelspec": {
   "display_name": "Python 3",
   "language": "python",
   "name": "python3"
  },
  "language_info": {
   "codemirror_mode": {
    "name": "ipython",
    "version": 2
   },
   "file_extension": ".py",
   "mimetype": "text/x-python",
   "name": "python",
   "nbconvert_exporter": "python",
   "pygments_lexer": "ipython2",
   "version": "2.7.6"
  }
 },
 "nbformat": 4,
 "nbformat_minor": 5
}
